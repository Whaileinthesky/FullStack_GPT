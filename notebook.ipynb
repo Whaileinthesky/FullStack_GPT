{
 "cells": [
  {
   "cell_type": "code",
   "execution_count": 2,
   "metadata": {},
   "outputs": [],
   "source": [
    "from langchain.chat_models import ChatOpenAI\n",
    "from langchain.prompts import PromptTemplate, ChatPromptTemplate #1 prompt from string, 2 prompt from chat\n",
    "from langchain.callbacks import StreamingStdOutCallbackHandler\n",
    "\n",
    "chat = ChatOpenAI(\n",
    "    model_name = \"gpt-3.5-turbo\",\n",
    "    temperature=0.1,\n",
    "    streaming=True,\n",
    "    callbacks=[StreamingStdOutCallbackHandler()]\n",
    "    )\n",
    "\n",
    "poet_prompt = ChatPromptTemplate.from_messages([\n",
    "    (\"system\", \"You are a legendary poet. You even write a poem about programming language. Your poem is about feature of language.\"),\n",
    "    (\"human\", \"Please write a poem about {language}.\")\n",
    "])\n",
    "\n",
    "poet_chain = poet_prompt|chat\n",
    "\n"
   ]
  },
  {
   "cell_type": "code",
   "execution_count": 3,
   "metadata": {},
   "outputs": [
    {
     "name": "stdout",
     "output_type": "stream",
     "text": [
      "In the realm of code, a serpent slithers free,\n",
      "Python, a language of elegance and glee.\n",
      "With syntax so clean, like a river's flow,\n",
      "It dances through loops with a graceful glow.\n",
      "\n",
      "Indentation its law, no curly braces in sight,\n",
      "Readability reigns, like stars in the night.\n",
      "Dynamic and strong, its types are but few,\n",
      "Yet versatile enough to tackle all you pursue.\n",
      "\n",
      "From web apps to AI, Python's domain,\n",
      "A language of power, where creativity reigns.\n",
      "Libraries abound, like treasures untold,\n",
      "Pandas, NumPy, and more to behold.\n",
      "\n",
      "So raise a toast to Python, a language divine,\n",
      "Where simplicity and beauty intertwine.\n",
      "In the world of code, it stands tall and true,\n",
      "A legendary language, forever anew.This poem beautifully captures the essence of Python programming language with its elegant and rhythmic structure. The content praises Python for its simplicity, elegance, and versatility in the realm of coding. The use of metaphors such as comparing Python to a serpent slithering free and its syntax to a river's flow adds depth and creativity to the poem.\n",
      "\n",
      "The structure of the poem is well-crafted with a consistent rhyme scheme and meter, creating a smooth and flowing rhythm that mirrors the fluidity of Python's syntax. The use of enjambment in some lines adds a sense of continuity and movement, enhancing the overall flow of the poem.\n",
      "\n",
      "Overall, this poem effectively conveys the beauty and power of Python as a programming language through its content, structure, and rhythm. It celebrates Python as a legendary language that combines simplicity and beauty in a way that is both inspiring and captivating."
     ]
    },
    {
     "data": {
      "text/plain": [
       "AIMessageChunk(content=\"This poem beautifully captures the essence of Python programming language with its elegant and rhythmic structure. The content praises Python for its simplicity, elegance, and versatility in the realm of coding. The use of metaphors such as comparing Python to a serpent slithering free and its syntax to a river's flow adds depth and creativity to the poem.\\n\\nThe structure of the poem is well-crafted with a consistent rhyme scheme and meter, creating a smooth and flowing rhythm that mirrors the fluidity of Python's syntax. The use of enjambment in some lines adds a sense of continuity and movement, enhancing the overall flow of the poem.\\n\\nOverall, this poem effectively conveys the beauty and power of Python as a programming language through its content, structure, and rhythm. It celebrates Python as a legendary language that combines simplicity and beauty in a way that is both inspiring and captivating.\")"
      ]
     },
     "execution_count": 3,
     "metadata": {},
     "output_type": "execute_result"
    }
   ],
   "source": [
    "explain_prompt = ChatPromptTemplate.from_messages([\n",
    "    (\"system\", \"You are very excellent poetry critic.Your critique evaluates not only the content but also the structure and rhythm of the poem.\"),\n",
    "    (\"human\", \"would you explain this {poem}?\")\n",
    "])\n",
    "explain_chain = explain_prompt|chat\n",
    "final_chain = {\"poem\":poet_chain}|explain_chain\n",
    "\n",
    "final_chain.invoke({\"language\":\"python\"})"
   ]
  }
 ],
 "metadata": {
  "kernelspec": {
   "display_name": "env",
   "language": "python",
   "name": "python3"
  },
  "language_info": {
   "codemirror_mode": {
    "name": "ipython",
    "version": 3
   },
   "file_extension": ".py",
   "mimetype": "text/x-python",
   "name": "python",
   "nbconvert_exporter": "python",
   "pygments_lexer": "ipython3",
   "version": "3.11.9"
  }
 },
 "nbformat": 4,
 "nbformat_minor": 2
}
