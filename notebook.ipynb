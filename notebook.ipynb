{
 "cells": [
  {
   "cell_type": "code",
   "execution_count": 24,
   "metadata": {},
   "outputs": [],
   "source": [
    "from langchain.memory import ConversationSummaryBufferMemory\n",
    "from langchain.chat_models import ChatOpenAI\n",
    "from langchain.chains import LLMChain\n",
    "from langchain.prompts import PromptTemplate, ChatPromptTemplate, MessagesPlaceholder\n",
    "from langchain.prompts.few_shot import FewShotChatMessagePromptTemplate\n",
    "from langchain.schema.runnable import RunnablePassthrough\n",
    "\n",
    "llm = ChatOpenAI(\n",
    "    model=\"gpt-3.5-turbo\",\n",
    "    temperature=0.1,    \n",
    "    )\n",
    "\n",
    "memory = ConversationSummaryBufferMemory(\n",
    "    llm=llm,\n",
    "    max_token_limit=120,\n",
    "    memory_key=\"chat_history\"\n",
    ")\n",
    "\n",
    "template =\"\"\"\n",
    "    You are a machine that summarizes movies in three emojis.\n",
    "\n",
    "    {chat_history}\n",
    "    human:{Movie}\n",
    "    you:\n",
    "\"\"\"\n",
    "examples = [\n",
    "    {\n",
    "        \"Movie\": \"Top Gun\",\n",
    "        \"answer\": \"✈️🏍️🔥\",\n",
    "    },\n",
    "    {\n",
    "        \"Movie\": \"Frozen\",\n",
    "        \"answer\": \"❄️👭👑\",\n",
    "    },\n",
    "    {\n",
    "        \"Movie\": \"Dune\",\n",
    "        \"answer\": \"🏜️🪐👑\",\n",
    "    },\n",
    "]\n",
    "\n",
    "\n",
    "example_prompt = ChatPromptTemplate.from_messages(\n",
    "    [\n",
    "        (\"human\", \"Summarize this {Movie}?\"),\n",
    "        (\"ai\", \"{answer}\"),\n",
    "    ]\n",
    ")\n",
    "\n",
    "example_prompt = FewShotChatMessagePromptTemplate(\n",
    "    example_prompt=example_prompt,\n",
    "    examples=examples,\n",
    ")\n",
    "\n",
    "final_prompt = ChatPromptTemplate.from_messages(\n",
    "    [\n",
    "        (\"system\", \"You are a machine that summarizes movies in three emojis.\"),\n",
    "        example_prompt,\n",
    "        (\"human\", \"Summarize this {Movie}?\"),\n",
    "    ]\n",
    ")\n",
    "def load_memory(_):\n",
    "    return memory.load_memory_variables({})[\"chat_history\"]\n",
    "\n",
    "chain = RunnablePassthrough.assign(chat_history=load_memory) | final_prompt | llm\n",
    "\n",
    "def invoke_chain(Movie):\n",
    "    result = chain.invoke({\"Movie\":Movie})\n",
    "    memory.save_context(\n",
    "        {\"input\":Movie},\n",
    "        {\"output\":result.content},\n",
    "    )\n",
    "    print(result)\n"
   ]
  },
  {
   "cell_type": "code",
   "execution_count": 25,
   "metadata": {},
   "outputs": [
    {
     "name": "stdout",
     "output_type": "stream",
     "text": [
      "content='🕵️\\u200d♂️💣🔥'\n"
     ]
    }
   ],
   "source": [
    "invoke_chain(\"Mission Impossible\")"
   ]
  },
  {
   "cell_type": "code",
   "execution_count": 26,
   "metadata": {},
   "outputs": [
    {
     "name": "stdout",
     "output_type": "stream",
     "text": [
      "content='🕵️\\u200d♂️🔫🍸'\n"
     ]
    }
   ],
   "source": [
    "invoke_chain(\"007\")"
   ]
  },
  {
   "cell_type": "code",
   "execution_count": 27,
   "metadata": {},
   "outputs": [
    {
     "name": "stdout",
     "output_type": "stream",
     "text": [
      "content='🔥💥🦾'\n"
     ]
    }
   ],
   "source": [
    "invoke_chain(\"Iron man\")"
   ]
  }
 ],
 "metadata": {
  "kernelspec": {
   "display_name": "env",
   "language": "python",
   "name": "python3"
  },
  "language_info": {
   "codemirror_mode": {
    "name": "ipython",
    "version": 3
   },
   "file_extension": ".py",
   "mimetype": "text/x-python",
   "name": "python",
   "nbconvert_exporter": "python",
   "pygments_lexer": "ipython3",
   "version": "3.11.9"
  }
 },
 "nbformat": 4,
 "nbformat_minor": 2
}
