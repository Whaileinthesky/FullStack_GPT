{
 "cells": [
  {
   "cell_type": "code",
   "execution_count": 2,
   "metadata": {},
   "outputs": [
    {
     "data": {
      "text/plain": [
       "28"
      ]
     },
     "execution_count": 2,
     "metadata": {},
     "output_type": "execute_result"
    }
   ],
   "source": [
    "from langchain.chat_models import ChatOpenAI\n",
    "from langchain.document_loaders import PyPDFLoader\n",
    "\n",
    "loader = PyPDFLoader(\"./files/CES_2024_review.pdf\")\n",
    "\n",
    "loader.load()"
   ]
  },
  {
   "cell_type": "code",
   "execution_count": 3,
   "metadata": {},
   "outputs": [],
   "source": [
    "from langchain.chat_models import ChatOpenAI\n",
    "from langchain.document_loaders import UnstructuredFileLoader\n",
    "from langchain.text_splitter import CharacterTextSplitter\n",
    "\n",
    "splitter = CharacterTextSplitter.from_tiktoken_encoder(\n",
    "    separator=\"\\n\",\n",
    "    chunk_size=600,\n",
    "    chunk_overlap=100,\n",
    ")\n",
    "\n",
    "\n",
    "loader = UnstructuredFileLoader(\"./files/CES_2024_review.pdf\")"
   ]
  },
  {
   "cell_type": "code",
   "execution_count": 12,
   "metadata": {},
   "outputs": [],
   "source": [
    "from langchain.chat_models import ChatOpenAI\n",
    "from langchain.document_loaders import UnstructuredFileLoader\n",
    "from langchain.text_splitter import CharacterTextSplitter\n",
    "from langchain.embeddings import OpenAIEmbeddings, CacheBackedEmbeddings\n",
    "from langchain.vectorstores import Chroma\n",
    "from langchain.storage import LocalFileStore\n",
    "from langchain.chains import RetrievalQA\n",
    "\n",
    "cache_dir = LocalFileStore(\"./.cache/\")\n",
    "\n",
    "splitter = CharacterTextSplitter.from_tiktoken_encoder(\n",
    "    separator=\"\\n\",\n",
    "    chunk_size=600,\n",
    "    chunk_overlap=100,\n",
    ")\n",
    "\n",
    "loader = UnstructuredFileLoader(\"./files/CES_2024_review.pdf\")\n",
    "\n",
    "docs = loader.load_and_split(text_splitter=splitter)\n",
    "\n",
    "embedding=OpenAIEmbeddings()\n",
    "\n",
    "cached_embeddings = CacheBackedEmbeddings.from_bytes_store(\n",
    "    embedding, cache_dir\n",
    ")\n",
    "\n",
    "vectorstore = Chroma.from_documents(docs, cached_embeddings)"
   ]
  },
  {
   "cell_type": "code",
   "execution_count": null,
   "metadata": {},
   "outputs": [],
   "source": [
    "#https://gist.github.com/serranoarevalo/5acf755c2b8d83f1707ef266b82ea223"
   ]
  },
  {
   "cell_type": "code",
   "execution_count": 7,
   "metadata": {},
   "outputs": [
    {
     "data": {
      "text/plain": [
       "[Document(page_content='이후 다소 하락기 경험, 이후 CES 2023부터 전시규모 및 기조연설(BMW, Stellantis) 등 참여 재확대\\n현대차그룹은 7개社(현대차, 기아, 현대모비스, 슈퍼널, 모셔널, 제로원, 포티투닷)가 참여해 소프트웨어\\n중심 자동차(SDV), 목적기반차량(PBV), 도심항공모빌리티(UAM) 등의 기술을 공개\\nCES 2023에서는 주요 계열사(현대차, 기아 등)가 불참하는 등 규모를 축소한 바 있으나, CES 2024에는 역대\\n최대 규모인 7개社가 참여하여 ‘수소와 소프트웨어로의 대전환’을 중심으로 전략 및 기술 발표', metadata={'source': './files/CES_2024_review.pdf'}),\n",
       " Document(page_content='BMW Operating Systems 8.5 및 9에 비디오앱을\\n통합하여 중앙 디스플레이에서 다양한 콘텐츠 시청\\n본 원고는 한국자동차연구원의 공식적인 입장이 아닌 저자 개인의 견해를 반영하고 있습니다,\\nMercedes-Benz (`22년 12위)\\n3세대 CLA 콘셉트카(준중형 쿠페/세단)와 G-Class\\n전기차 프로토타입(중형 SUV) 소개\\n동사의 모듈형 전기차 플랫폼인 MMA(Mercedes\\nModular Architecture) 기반으로, 1회 충전 750km\\n주행(WLTP 기준) 및 250kW DC 충전 등 사양 보유\\n지능형 운전자 보조 기능 MBUX Virtual Assistant 공개\\n`24년 도입 예정인 동사 운영체제 MB.OS에서 작동.\\nAI 기반으로 음성 명령 등을 통해 인간과 상호작용하고', metadata={'source': './files/CES_2024_review.pdf'}),\n",
       " Document(page_content='안전성 확보가 가능하게 하였으며, 몰입형 경험이 가능\\nBMW (`22년 11위)\\n차량 원격조작 및 증강현실 시연 ‣ Valeo와 공동 개발 중인 자동 발렛 주차(AVP; Automated Valet Parking) 시연\\n\"XREAL Air 2\"를 이용하여 내비게이션 안내, 위험 경고,\\n콘텐츠, 충전소 및 주차 상황 등의 제공 시연\\nSW 및 사용자 경험 개선 계획 공개\\nAmazon Alexa에 추가된 대규모 언어 모델(LLM)을\\n기반의 생성형 AI 기능을 이용하여 BMW Voice\\nAssistant 기능 강화\\nBMW Digital Premium 서비스를 통해 BMW\\nConnected Drive Store에 콘텐츠 및 타사 앱까지 제공\\nBMW Operating Systems 8.5 및 9에 비디오앱을\\n통합하여 중앙 디스플레이에서 다양한 콘텐츠 시청', metadata={'source': './files/CES_2024_review.pdf'}),\n",
       " Document(page_content='계획\\n공공 모빌리티 콘셉트(SPACE), 미래 물류 시스템(CITY\\nPOD), 자율형 로봇(Stretch) 등 공개\\n본 원고는 한국자동차연구원의 공식적인 입장이 아닌 저자 개인의 견해를 반영하고 있습니다,\\n현대자동차그룹 - 기아 (`22년 3위)\\n목적기반차량(PBV) 콘셉트카 전시 및 전략 소개\\nPBV 사업의 첫 단계는 차량 호출, 배달, 유틸리티 등\\n영역에 최적화된 PV5를 2025년 출시하는 것\\nPV5는 기본형, 밴, 하이루프, 섀시 캡 등 다양한\\n버전으로 출시 예정이며, PV1, PV7는 각각 특정 목적에\\n맞게 설계된 차량으로 출시 예정', metadata={'source': './files/CES_2024_review.pdf'})]"
      ]
     },
     "execution_count": 7,
     "metadata": {},
     "output_type": "execute_result"
    }
   ],
   "source": [
    "results = vectorstore.similarity_search(\"bmw는 무엇을 발표했습니까?\")\n",
    "\n",
    "results"
   ]
  }
 ],
 "metadata": {
  "kernelspec": {
   "display_name": "env",
   "language": "python",
   "name": "python3"
  },
  "language_info": {
   "codemirror_mode": {
    "name": "ipython",
    "version": 3
   },
   "file_extension": ".py",
   "mimetype": "text/x-python",
   "name": "python",
   "nbconvert_exporter": "python",
   "pygments_lexer": "ipython3",
   "version": "3.11.9"
  }
 },
 "nbformat": 4,
 "nbformat_minor": 2
}
